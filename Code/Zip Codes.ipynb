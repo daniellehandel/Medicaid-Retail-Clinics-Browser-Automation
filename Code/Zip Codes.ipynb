{
 "cells": [
  {
   "cell_type": "markdown",
   "metadata": {},
   "source": [
    "## Finding the most populous zip code in each county"
   ]
  },
  {
   "cell_type": "code",
   "execution_count": 2,
   "metadata": {},
   "outputs": [
    {
     "name": "stderr",
     "output_type": "stream",
     "text": [
      "Loading required package: dplyr\n",
      "\n",
      "Attaching package: 'dplyr'\n",
      "\n",
      "The following objects are masked from 'package:stats':\n",
      "\n",
      "    filter, lag\n",
      "\n",
      "The following objects are masked from 'package:base':\n",
      "\n",
      "    intersect, setdiff, setequal, union\n",
      "\n",
      "Loading required package: openxlsx\n",
      "Loading required package: tidyr\n",
      "Loading required package: writexl\n"
     ]
    }
   ],
   "source": [
    "rm(list=ls())\n",
    "libs <- c(\"dplyr\",\"openxlsx\",\"tidyr\",\"writexl\")\n",
    "load.libs <- function(x){\n",
    "  for(i in x){\n",
    "    if(!require(i,character.only = TRUE )){\n",
    "      install.packages(i,dependencies = TRUE )\n",
    "      library(i,character.only = TRUE ) \n",
    "    }\n",
    "  }\n",
    "}\n",
    "suppressWarnings(load.libs(libs))"
   ]
  },
  {
   "cell_type": "code",
   "execution_count": 3,
   "metadata": {},
   "outputs": [
    {
     "data": {
      "text/html": [
       "<table>\n",
       "<thead><tr><th scope=col>zip</th><th scope=col>county</th><th scope=col>res_ratio</th><th scope=col>bus_ratio</th><th scope=col>oth_ratio</th><th scope=col>tot_ratio</th></tr></thead>\n",
       "<tbody>\n",
       "\t<tr><td>00616     </td><td>72013     </td><td>1.00000000</td><td>1.0000000 </td><td>1         </td><td>1.00000000</td></tr>\n",
       "\t<tr><td>00617     </td><td>72054     </td><td>0.01677129</td><td>0.0000000 </td><td>0         </td><td>0.01567563</td></tr>\n",
       "\t<tr><td>00624     </td><td>72111     </td><td>0.89446017</td><td>0.8307692 </td><td>1         </td><td>0.89176441</td></tr>\n",
       "\t<tr><td>00652     </td><td>72013     </td><td>1.00000000</td><td>1.0000000 </td><td>1         </td><td>1.00000000</td></tr>\n",
       "\t<tr><td>00660     </td><td>72067     </td><td>0.99615498</td><td>1.0000000 </td><td>1         </td><td>0.99635548</td></tr>\n",
       "\t<tr><td>00670     </td><td>72083     </td><td>1.00000000</td><td>1.0000000 </td><td>1         </td><td>1.00000000</td></tr>\n",
       "</tbody>\n",
       "</table>\n"
      ],
      "text/latex": [
       "\\begin{tabular}{r|llllll}\n",
       " zip & county & res\\_ratio & bus\\_ratio & oth\\_ratio & tot\\_ratio\\\\\n",
       "\\hline\n",
       "\t 00616      & 72013      & 1.00000000 & 1.0000000  & 1          & 1.00000000\\\\\n",
       "\t 00617      & 72054      & 0.01677129 & 0.0000000  & 0          & 0.01567563\\\\\n",
       "\t 00624      & 72111      & 0.89446017 & 0.8307692  & 1          & 0.89176441\\\\\n",
       "\t 00652      & 72013      & 1.00000000 & 1.0000000  & 1          & 1.00000000\\\\\n",
       "\t 00660      & 72067      & 0.99615498 & 1.0000000  & 1          & 0.99635548\\\\\n",
       "\t 00670      & 72083      & 1.00000000 & 1.0000000  & 1          & 1.00000000\\\\\n",
       "\\end{tabular}\n"
      ],
      "text/markdown": [
       "\n",
       "| zip | county | res_ratio | bus_ratio | oth_ratio | tot_ratio |\n",
       "|---|---|---|---|---|---|\n",
       "| 00616      | 72013      | 1.00000000 | 1.0000000  | 1          | 1.00000000 |\n",
       "| 00617      | 72054      | 0.01677129 | 0.0000000  | 0          | 0.01567563 |\n",
       "| 00624      | 72111      | 0.89446017 | 0.8307692  | 1          | 0.89176441 |\n",
       "| 00652      | 72013      | 1.00000000 | 1.0000000  | 1          | 1.00000000 |\n",
       "| 00660      | 72067      | 0.99615498 | 1.0000000  | 1          | 0.99635548 |\n",
       "| 00670      | 72083      | 1.00000000 | 1.0000000  | 1          | 1.00000000 |\n",
       "\n"
      ],
      "text/plain": [
       "  zip   county res_ratio  bus_ratio oth_ratio tot_ratio \n",
       "1 00616 72013  1.00000000 1.0000000 1         1.00000000\n",
       "2 00617 72054  0.01677129 0.0000000 0         0.01567563\n",
       "3 00624 72111  0.89446017 0.8307692 1         0.89176441\n",
       "4 00652 72013  1.00000000 1.0000000 1         1.00000000\n",
       "5 00660 72067  0.99615498 1.0000000 1         0.99635548\n",
       "6 00670 72083  1.00000000 1.0000000 1         1.00000000"
      ]
     },
     "metadata": {},
     "output_type": "display_data"
    }
   ],
   "source": [
    "#data set that includes every zip code in the US + its county as a county number\n",
    "\n",
    "zips <- read.xlsx(\"C:/Users/asyah/Desktop/Fall 2020/Medicaid/ZIP_COUNTY_122018.xlsx\")\n",
    "head(zips)"
   ]
  },
  {
   "cell_type": "code",
   "execution_count": 4,
   "metadata": {},
   "outputs": [],
   "source": [
    "#only keep the zip code that contains the highest percentage of residential addresses in the county\n",
    "\n",
    "maxzips <- zips %>% group_by(county) %>% slice(which.max(res_ratio))"
   ]
  },
  {
   "cell_type": "code",
   "execution_count": 5,
   "metadata": {},
   "outputs": [
    {
     "data": {
      "text/html": [
       "<table>\n",
       "<thead><tr><th scope=col>zip</th><th scope=col>county</th><th scope=col>res_ratio</th><th scope=col>bus_ratio</th><th scope=col>oth_ratio</th><th scope=col>tot_ratio</th></tr></thead>\n",
       "<tbody>\n",
       "\t<tr><td>36003    </td><td>01001    </td><td>1.0000000</td><td>1.0000000</td><td>1        </td><td>1.0000000</td></tr>\n",
       "\t<tr><td>36550    </td><td>01003    </td><td>1.0000000</td><td>1.0000000</td><td>0        </td><td>1.0000000</td></tr>\n",
       "\t<tr><td>36017    </td><td>01005    </td><td>1.0000000</td><td>1.0000000</td><td>1        </td><td>1.0000000</td></tr>\n",
       "\t<tr><td>35035    </td><td>01007    </td><td>0.9796163</td><td>0.9565217</td><td>1        </td><td>0.9791183</td></tr>\n",
       "\t<tr><td>35097    </td><td>01009    </td><td>1.0000000</td><td>1.0000000</td><td>1        </td><td>1.0000000</td></tr>\n",
       "\t<tr><td>36089    </td><td>01011    </td><td>0.9129911</td><td>0.9822335</td><td>1        </td><td>0.9197733</td></tr>\n",
       "</tbody>\n",
       "</table>\n"
      ],
      "text/latex": [
       "\\begin{tabular}{r|llllll}\n",
       " zip & county & res\\_ratio & bus\\_ratio & oth\\_ratio & tot\\_ratio\\\\\n",
       "\\hline\n",
       "\t 36003     & 01001     & 1.0000000 & 1.0000000 & 1         & 1.0000000\\\\\n",
       "\t 36550     & 01003     & 1.0000000 & 1.0000000 & 0         & 1.0000000\\\\\n",
       "\t 36017     & 01005     & 1.0000000 & 1.0000000 & 1         & 1.0000000\\\\\n",
       "\t 35035     & 01007     & 0.9796163 & 0.9565217 & 1         & 0.9791183\\\\\n",
       "\t 35097     & 01009     & 1.0000000 & 1.0000000 & 1         & 1.0000000\\\\\n",
       "\t 36089     & 01011     & 0.9129911 & 0.9822335 & 1         & 0.9197733\\\\\n",
       "\\end{tabular}\n"
      ],
      "text/markdown": [
       "\n",
       "| zip | county | res_ratio | bus_ratio | oth_ratio | tot_ratio |\n",
       "|---|---|---|---|---|---|\n",
       "| 36003     | 01001     | 1.0000000 | 1.0000000 | 1         | 1.0000000 |\n",
       "| 36550     | 01003     | 1.0000000 | 1.0000000 | 0         | 1.0000000 |\n",
       "| 36017     | 01005     | 1.0000000 | 1.0000000 | 1         | 1.0000000 |\n",
       "| 35035     | 01007     | 0.9796163 | 0.9565217 | 1         | 0.9791183 |\n",
       "| 35097     | 01009     | 1.0000000 | 1.0000000 | 1         | 1.0000000 |\n",
       "| 36089     | 01011     | 0.9129911 | 0.9822335 | 1         | 0.9197733 |\n",
       "\n"
      ],
      "text/plain": [
       "  zip   county res_ratio bus_ratio oth_ratio tot_ratio\n",
       "1 36003 01001  1.0000000 1.0000000 1         1.0000000\n",
       "2 36550 01003  1.0000000 1.0000000 0         1.0000000\n",
       "3 36017 01005  1.0000000 1.0000000 1         1.0000000\n",
       "4 35035 01007  0.9796163 0.9565217 1         0.9791183\n",
       "5 35097 01009  1.0000000 1.0000000 1         1.0000000\n",
       "6 36089 01011  0.9129911 0.9822335 1         0.9197733"
      ]
     },
     "metadata": {},
     "output_type": "display_data"
    },
    {
     "data": {
      "text/plain": [
       "     zip               county            res_ratio        bus_ratio     \n",
       " Length:3225        Length:3225        Min.   :0.0000   Min.   :0.0000  \n",
       " Class :character   Class :character   1st Qu.:1.0000   1st Qu.:1.0000  \n",
       " Mode  :character   Mode  :character   Median :1.0000   Median :1.0000  \n",
       "                                       Mean   :0.9906   Mean   :0.9248  \n",
       "                                       3rd Qu.:1.0000   3rd Qu.:1.0000  \n",
       "                                       Max.   :1.0000   Max.   :1.0000  \n",
       "   oth_ratio        tot_ratio        \n",
       " Min.   :0.0000   Min.   :0.0004174  \n",
       " 1st Qu.:1.0000   1st Qu.:1.0000000  \n",
       " Median :1.0000   Median :1.0000000  \n",
       " Mean   :0.9088   Mean   :0.9948696  \n",
       " 3rd Qu.:1.0000   3rd Qu.:1.0000000  \n",
       " Max.   :1.0000   Max.   :1.0000000  "
      ]
     },
     "metadata": {},
     "output_type": "display_data"
    },
    {
     "data": {
      "text/html": [
       "3225"
      ],
      "text/latex": [
       "3225"
      ],
      "text/markdown": [
       "3225"
      ],
      "text/plain": [
       "[1] 3225"
      ]
     },
     "metadata": {},
     "output_type": "display_data"
    }
   ],
   "source": [
    "head(maxzips)\n",
    "summary(maxzips)\n",
    "length(unique(maxzips$county))"
   ]
  },
  {
   "cell_type": "code",
   "execution_count": 6,
   "metadata": {},
   "outputs": [],
   "source": [
    "#countains county names and their codes\n",
    "# HUD USPS Zipcode Crosswalk\n",
    "\n",
    "codes <- read.xlsx(\"C:/Users/asyah/Desktop/Fall 2020/Medicaid/all-geocodes-v2018.xlsx\", startRow= 5)"
   ]
  },
  {
   "cell_type": "code",
   "execution_count": 10,
   "metadata": {},
   "outputs": [],
   "source": [
    "#select the state codes (to be used to merge state name)\n",
    "\n",
    "states <- codes %>% filter(Summary.Level == \"040\") %>% select(\"State.Code\", \"Area.Name\") "
   ]
  },
  {
   "cell_type": "code",
   "execution_count": 8,
   "metadata": {},
   "outputs": [
    {
     "data": {
      "text/html": [
       "3220"
      ],
      "text/latex": [
       "3220"
      ],
      "text/markdown": [
       "3220"
      ],
      "text/plain": [
       "[1] 3220"
      ]
     },
     "metadata": {},
     "output_type": "display_data"
    }
   ],
   "source": [
    "#select county numbers\n",
    "countynums <- codes %>% filter(Summary.Level == \"050\") %>% \n",
    "\n",
    "#pasting the strings for state code and county number to give full county code\n",
    "select(\"State.Code\",\"County.Code\",\"Area.Name\") %>% unite(county, State.Code, County.Code, sep=\"\",remove = FALSE)\n",
    "\n",
    "nrow(countynums)"
   ]
  },
  {
   "cell_type": "code",
   "execution_count": 11,
   "metadata": {},
   "outputs": [
    {
     "data": {
      "text/html": [
       "<table>\n",
       "<thead><tr><th scope=col>State.Code</th><th scope=col>Area.Name.x</th><th scope=col>county</th><th scope=col>County.Code</th><th scope=col>Area.Name.y</th><th scope=col>zip</th><th scope=col>res_ratio</th><th scope=col>bus_ratio</th><th scope=col>oth_ratio</th><th scope=col>tot_ratio</th></tr></thead>\n",
       "<tbody>\n",
       "\t<tr><td>01            </td><td>Alabama       </td><td>01001         </td><td>001           </td><td>Autauga County</td><td>36003         </td><td>1.0000000     </td><td>1.0000000     </td><td>1             </td><td>1.0000000     </td></tr>\n",
       "\t<tr><td>01            </td><td>Alabama       </td><td>01003         </td><td>003           </td><td>Baldwin County</td><td>36550         </td><td>1.0000000     </td><td>1.0000000     </td><td>0             </td><td>1.0000000     </td></tr>\n",
       "\t<tr><td>01            </td><td>Alabama       </td><td>01005         </td><td>005           </td><td>Barbour County</td><td>36017         </td><td>1.0000000     </td><td>1.0000000     </td><td>1             </td><td>1.0000000     </td></tr>\n",
       "\t<tr><td>01            </td><td>Alabama       </td><td>01007         </td><td>007           </td><td>Bibb County   </td><td>35035         </td><td>0.9796163     </td><td>0.9565217     </td><td>1             </td><td>0.9791183     </td></tr>\n",
       "\t<tr><td>01            </td><td>Alabama       </td><td>01009         </td><td>009           </td><td>Blount County </td><td>35097         </td><td>1.0000000     </td><td>1.0000000     </td><td>1             </td><td>1.0000000     </td></tr>\n",
       "\t<tr><td>01            </td><td>Alabama       </td><td>01011         </td><td>011           </td><td>Bullock County</td><td>36089         </td><td>0.9129911     </td><td>0.9822335     </td><td>1             </td><td>0.9197733     </td></tr>\n",
       "</tbody>\n",
       "</table>\n"
      ],
      "text/latex": [
       "\\begin{tabular}{r|llllllllll}\n",
       " State.Code & Area.Name.x & county & County.Code & Area.Name.y & zip & res\\_ratio & bus\\_ratio & oth\\_ratio & tot\\_ratio\\\\\n",
       "\\hline\n",
       "\t 01             & Alabama        & 01001          & 001            & Autauga County & 36003          & 1.0000000      & 1.0000000      & 1              & 1.0000000     \\\\\n",
       "\t 01             & Alabama        & 01003          & 003            & Baldwin County & 36550          & 1.0000000      & 1.0000000      & 0              & 1.0000000     \\\\\n",
       "\t 01             & Alabama        & 01005          & 005            & Barbour County & 36017          & 1.0000000      & 1.0000000      & 1              & 1.0000000     \\\\\n",
       "\t 01             & Alabama        & 01007          & 007            & Bibb County    & 35035          & 0.9796163      & 0.9565217      & 1              & 0.9791183     \\\\\n",
       "\t 01             & Alabama        & 01009          & 009            & Blount County  & 35097          & 1.0000000      & 1.0000000      & 1              & 1.0000000     \\\\\n",
       "\t 01             & Alabama        & 01011          & 011            & Bullock County & 36089          & 0.9129911      & 0.9822335      & 1              & 0.9197733     \\\\\n",
       "\\end{tabular}\n"
      ],
      "text/markdown": [
       "\n",
       "| State.Code | Area.Name.x | county | County.Code | Area.Name.y | zip | res_ratio | bus_ratio | oth_ratio | tot_ratio |\n",
       "|---|---|---|---|---|---|---|---|---|---|\n",
       "| 01             | Alabama        | 01001          | 001            | Autauga County | 36003          | 1.0000000      | 1.0000000      | 1              | 1.0000000      |\n",
       "| 01             | Alabama        | 01003          | 003            | Baldwin County | 36550          | 1.0000000      | 1.0000000      | 0              | 1.0000000      |\n",
       "| 01             | Alabama        | 01005          | 005            | Barbour County | 36017          | 1.0000000      | 1.0000000      | 1              | 1.0000000      |\n",
       "| 01             | Alabama        | 01007          | 007            | Bibb County    | 35035          | 0.9796163      | 0.9565217      | 1              | 0.9791183      |\n",
       "| 01             | Alabama        | 01009          | 009            | Blount County  | 35097          | 1.0000000      | 1.0000000      | 1              | 1.0000000      |\n",
       "| 01             | Alabama        | 01011          | 011            | Bullock County | 36089          | 0.9129911      | 0.9822335      | 1              | 0.9197733      |\n",
       "\n"
      ],
      "text/plain": [
       "  State.Code Area.Name.x county County.Code Area.Name.y    zip   res_ratio\n",
       "1 01         Alabama     01001  001         Autauga County 36003 1.0000000\n",
       "2 01         Alabama     01003  003         Baldwin County 36550 1.0000000\n",
       "3 01         Alabama     01005  005         Barbour County 36017 1.0000000\n",
       "4 01         Alabama     01007  007         Bibb County    35035 0.9796163\n",
       "5 01         Alabama     01009  009         Blount County  35097 1.0000000\n",
       "6 01         Alabama     01011  011         Bullock County 36089 0.9129911\n",
       "  bus_ratio oth_ratio tot_ratio\n",
       "1 1.0000000 1         1.0000000\n",
       "2 1.0000000 0         1.0000000\n",
       "3 1.0000000 1         1.0000000\n",
       "4 0.9565217 1         0.9791183\n",
       "5 1.0000000 1         1.0000000\n",
       "6 0.9822335 1         0.9197733"
      ]
     },
     "metadata": {},
     "output_type": "display_data"
    }
   ],
   "source": [
    "zipcounty <- (merge(countynums, maxzips, by = 'county'))\n",
    "\n",
    "zipcounty2 <- (merge(states, zipcounty, by = \"State.Code\"))\n",
    "\n",
    "head(zipcounty2)"
   ]
  },
  {
   "cell_type": "code",
   "execution_count": 14,
   "metadata": {},
   "outputs": [
    {
     "name": "stdout",
     "output_type": "stream",
     "text": [
      "'data.frame':\t1756 obs. of  2 variables:\n",
      " $ Medicaid.FFS.Listed.on.MinuteClinic.Dropdown: chr  \"CT MEDICAID\" \"CT MEDICAID\" \"CT MEDICAID\" \"CT MEDICAID\" ...\n",
      " $ zip                                         : chr  \"06484\" \"06040\" \"06759\" \"06457\" ...\n"
     ]
    }
   ],
   "source": [
    "#read in names of Medicaid FFS for each state \n",
    "\n",
    "mcaid <- read.xlsx(\"C:/Users/asyah/Desktop/Fall 2020/Medicaid/mcaidnames.xlsx\")\n",
    "\n",
    "#merge by state code\n",
    "zipcounty3 <- (merge(select(mcaid, \"State.Code\",\"Medicaid.FFS.Listed.on.MinuteClinic.Dropdown\"), \n",
    "                     zipcounty2, by = \"State.Code\"))\n",
    "\n",
    "#remove states that do not have CVS MinuteClinics\n",
    "zipmed <- zipcounty3 %>% select(\"Medicaid.FFS.Listed.on.MinuteClinic.Dropdown\",\"zip\") %>% \n",
    "filter(zipcounty3$Medicaid != \"NONE\")\n",
    "\n",
    "str(zipmed)"
   ]
  }
 ],
 "metadata": {
  "kernelspec": {
   "display_name": "R",
   "language": "R",
   "name": "ir"
  },
  "language_info": {
   "codemirror_mode": "r",
   "file_extension": ".r",
   "mimetype": "text/x-r-source",
   "name": "R",
   "pygments_lexer": "r",
   "version": "3.6.1"
  },
  "varInspector": {
   "cols": {
    "lenName": 16,
    "lenType": 16,
    "lenVar": 40
   },
   "kernels_config": {
    "python": {
     "delete_cmd_postfix": "",
     "delete_cmd_prefix": "del ",
     "library": "var_list.py",
     "varRefreshCmd": "print(var_dic_list())"
    },
    "r": {
     "delete_cmd_postfix": ") ",
     "delete_cmd_prefix": "rm(",
     "library": "var_list.r",
     "varRefreshCmd": "cat(var_dic_list()) "
    }
   },
   "types_to_exclude": [
    "module",
    "function",
    "builtin_function_or_method",
    "instance",
    "_Feature"
   ],
   "window_display": false
  }
 },
 "nbformat": 4,
 "nbformat_minor": 4
}
