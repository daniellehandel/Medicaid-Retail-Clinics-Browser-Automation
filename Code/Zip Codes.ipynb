{
 "cells": [
  {
   "cell_type": "markdown",
   "metadata": {},
   "source": [
    "## Finding the most populous zip code in each county"
   ]
  },
  {
   "cell_type": "code",
   "execution_count": 1,
   "metadata": {},
   "outputs": [
    {
     "name": "stderr",
     "output_type": "stream",
     "text": [
      "Loading required package: dplyr\n",
      "\n",
      "Attaching package: 'dplyr'\n",
      "\n",
      "The following objects are masked from 'package:stats':\n",
      "\n",
      "    filter, lag\n",
      "\n",
      "The following objects are masked from 'package:base':\n",
      "\n",
      "    intersect, setdiff, setequal, union\n",
      "\n",
      "Loading required package: openxlsx\n",
      "Loading required package: tidyr\n",
      "Loading required package: writexl\n"
     ]
    }
   ],
   "source": [
    "rm(list=ls())\n",
    "libs <- c(\"dplyr\",\"openxlsx\",\"tidyr\",\"writexl\")\n",
    "load.libs <- function(x){\n",
    "  for(i in x){\n",
    "    if(!require(i,character.only = TRUE )){\n",
    "      install.packages(i,dependencies = TRUE )\n",
    "      library(i,character.only = TRUE ) \n",
    "    }\n",
    "  }\n",
    "}\n",
    "suppressWarnings(load.libs(libs))"
   ]
  },
  {
   "cell_type": "code",
   "execution_count": 2,
   "metadata": {},
   "outputs": [],
   "source": [
    "#data set that includes every zip code in the US + its county as a coundy number\n",
    "\n",
    "zips <- read.xlsx(\"C:/Users/asyah/Desktop/Fall 2020/Medicaid/ZIP_COUNTY_122018.xlsx\")"
   ]
  },
  {
   "cell_type": "code",
   "execution_count": 3,
   "metadata": {},
   "outputs": [],
   "source": [
    "#only keep the zip code that contains the highest percentage of residential addresses in the county\n",
    "\n",
    "maxzips <- zips %>% group_by(county) %>% slice(which.max(res_ratio))"
   ]
  },
  {
   "cell_type": "code",
   "execution_count": null,
   "metadata": {},
   "outputs": [],
   "source": [
    "head(maxzips)\n",
    "summary(maxzips)\n",
    "length(unique(maxzips$county))"
   ]
  },
  {
   "cell_type": "code",
   "execution_count": 4,
   "metadata": {},
   "outputs": [],
   "source": [
    "#countains county names and their codes\n",
    "\n",
    "codes <- read.xlsx(\"C:/Users/asyah/Desktop/Fall 2020/Medicaid/all-geocodes-v2018.xlsx\", startRow= 5)"
   ]
  },
  {
   "cell_type": "code",
   "execution_count": 5,
   "metadata": {},
   "outputs": [],
   "source": [
    "states <- codes %>% filter(Summary.Level == \"040\") %>% select(\"State.Code\", \"Area.Name\") \n",
    "\n",
    "#write_xlsx(states,'C:/Users/asyah/Desktop/Fall 2020/Medicaid/states.xlsx')"
   ]
  },
  {
   "cell_type": "code",
   "execution_count": 6,
   "metadata": {},
   "outputs": [
    {
     "data": {
      "text/html": [
       "3220"
      ],
      "text/latex": [
       "3220"
      ],
      "text/markdown": [
       "3220"
      ],
      "text/plain": [
       "[1] 3220"
      ]
     },
     "metadata": {},
     "output_type": "display_data"
    }
   ],
   "source": [
    "countynums <- codes %>% filter(Summary.Level == \"050\") %>% \n",
    "select(\"State.Code\",\"County.Code\",\"Area.Name\") %>% unite(county, State.Code, County.Code, sep=\"\",remove = FALSE)\n",
    "\n",
    "nrow(countynums)"
   ]
  },
  {
   "cell_type": "code",
   "execution_count": 7,
   "metadata": {},
   "outputs": [
    {
     "data": {
      "text/html": [
       "<table>\n",
       "<thead><tr><th scope=col>State.Code</th><th scope=col>Area.Name.x</th><th scope=col>county</th><th scope=col>County.Code</th><th scope=col>Area.Name.y</th><th scope=col>zip</th><th scope=col>res_ratio</th><th scope=col>bus_ratio</th><th scope=col>oth_ratio</th><th scope=col>tot_ratio</th></tr></thead>\n",
       "<tbody>\n",
       "\t<tr><td>01            </td><td>Alabama       </td><td>01001         </td><td>001           </td><td>Autauga County</td><td>36003         </td><td>1.0000000     </td><td>1.0000000     </td><td>1             </td><td>1.0000000     </td></tr>\n",
       "\t<tr><td>01            </td><td>Alabama       </td><td>01003         </td><td>003           </td><td>Baldwin County</td><td>36550         </td><td>1.0000000     </td><td>1.0000000     </td><td>0             </td><td>1.0000000     </td></tr>\n",
       "\t<tr><td>01            </td><td>Alabama       </td><td>01005         </td><td>005           </td><td>Barbour County</td><td>36017         </td><td>1.0000000     </td><td>1.0000000     </td><td>1             </td><td>1.0000000     </td></tr>\n",
       "\t<tr><td>01            </td><td>Alabama       </td><td>01007         </td><td>007           </td><td>Bibb County   </td><td>35035         </td><td>0.9796163     </td><td>0.9565217     </td><td>1             </td><td>0.9791183     </td></tr>\n",
       "\t<tr><td>01            </td><td>Alabama       </td><td>01009         </td><td>009           </td><td>Blount County </td><td>35097         </td><td>1.0000000     </td><td>1.0000000     </td><td>1             </td><td>1.0000000     </td></tr>\n",
       "\t<tr><td>01            </td><td>Alabama       </td><td>01011         </td><td>011           </td><td>Bullock County</td><td>36089         </td><td>0.9129911     </td><td>0.9822335     </td><td>1             </td><td>0.9197733     </td></tr>\n",
       "</tbody>\n",
       "</table>\n"
      ],
      "text/latex": [
       "\\begin{tabular}{r|llllllllll}\n",
       " State.Code & Area.Name.x & county & County.Code & Area.Name.y & zip & res\\_ratio & bus\\_ratio & oth\\_ratio & tot\\_ratio\\\\\n",
       "\\hline\n",
       "\t 01             & Alabama        & 01001          & 001            & Autauga County & 36003          & 1.0000000      & 1.0000000      & 1              & 1.0000000     \\\\\n",
       "\t 01             & Alabama        & 01003          & 003            & Baldwin County & 36550          & 1.0000000      & 1.0000000      & 0              & 1.0000000     \\\\\n",
       "\t 01             & Alabama        & 01005          & 005            & Barbour County & 36017          & 1.0000000      & 1.0000000      & 1              & 1.0000000     \\\\\n",
       "\t 01             & Alabama        & 01007          & 007            & Bibb County    & 35035          & 0.9796163      & 0.9565217      & 1              & 0.9791183     \\\\\n",
       "\t 01             & Alabama        & 01009          & 009            & Blount County  & 35097          & 1.0000000      & 1.0000000      & 1              & 1.0000000     \\\\\n",
       "\t 01             & Alabama        & 01011          & 011            & Bullock County & 36089          & 0.9129911      & 0.9822335      & 1              & 0.9197733     \\\\\n",
       "\\end{tabular}\n"
      ],
      "text/markdown": [
       "\n",
       "| State.Code | Area.Name.x | county | County.Code | Area.Name.y | zip | res_ratio | bus_ratio | oth_ratio | tot_ratio |\n",
       "|---|---|---|---|---|---|---|---|---|---|\n",
       "| 01             | Alabama        | 01001          | 001            | Autauga County | 36003          | 1.0000000      | 1.0000000      | 1              | 1.0000000      |\n",
       "| 01             | Alabama        | 01003          | 003            | Baldwin County | 36550          | 1.0000000      | 1.0000000      | 0              | 1.0000000      |\n",
       "| 01             | Alabama        | 01005          | 005            | Barbour County | 36017          | 1.0000000      | 1.0000000      | 1              | 1.0000000      |\n",
       "| 01             | Alabama        | 01007          | 007            | Bibb County    | 35035          | 0.9796163      | 0.9565217      | 1              | 0.9791183      |\n",
       "| 01             | Alabama        | 01009          | 009            | Blount County  | 35097          | 1.0000000      | 1.0000000      | 1              | 1.0000000      |\n",
       "| 01             | Alabama        | 01011          | 011            | Bullock County | 36089          | 0.9129911      | 0.9822335      | 1              | 0.9197733      |\n",
       "\n"
      ],
      "text/plain": [
       "  State.Code Area.Name.x county County.Code Area.Name.y    zip   res_ratio\n",
       "1 01         Alabama     01001  001         Autauga County 36003 1.0000000\n",
       "2 01         Alabama     01003  003         Baldwin County 36550 1.0000000\n",
       "3 01         Alabama     01005  005         Barbour County 36017 1.0000000\n",
       "4 01         Alabama     01007  007         Bibb County    35035 0.9796163\n",
       "5 01         Alabama     01009  009         Blount County  35097 1.0000000\n",
       "6 01         Alabama     01011  011         Bullock County 36089 0.9129911\n",
       "  bus_ratio oth_ratio tot_ratio\n",
       "1 1.0000000 1         1.0000000\n",
       "2 1.0000000 0         1.0000000\n",
       "3 1.0000000 1         1.0000000\n",
       "4 0.9565217 1         0.9791183\n",
       "5 1.0000000 1         1.0000000\n",
       "6 0.9822335 1         0.9197733"
      ]
     },
     "metadata": {},
     "output_type": "display_data"
    }
   ],
   "source": [
    "zipcounty <- (merge(countynums, maxzips, by = 'county'))\n",
    "\n",
    "#head(zipcounty)\n",
    "\n",
    "zipcounty2 <- (merge(states, zipcounty, by = \"State.Code\"))\n",
    "\n",
    "head(zipcounty2)"
   ]
  },
  {
   "cell_type": "code",
   "execution_count": 13,
   "metadata": {},
   "outputs": [
    {
     "name": "stdout",
     "output_type": "stream",
     "text": [
      "'data.frame':\t1756 obs. of  2 variables:\n",
      " $ Medicaid: chr  \"CT MEDICAID\" \"CT MEDICAID\" \"CT MEDICAID\" \"CT MEDICAID\" ...\n",
      " $ zip     : chr  \"06484\" \"06040\" \"06759\" \"06457\" ...\n"
     ]
    }
   ],
   "source": [
    "mcaid <- read.xlsx(\"C:/Users/asyah/Desktop/Fall 2020/Medicaid/mcaidnames.xlsx\")\n",
    "\n",
    "zipcounty3 <- (merge(select(mcaid, \"State.Code\",\"Medicaid\"), zipcounty2, by = \"State.Code\"))\n",
    "\n",
    "zipmed <- zipcounty3 %>% select(\"Medicaid\",\"zip\") %>% filter(zipcounty3$Medicaid != \"NONE\")\n",
    "\n",
    "str(zipmed)\n",
    "\n",
    "write_xlsx(states,'C:/Users/asyah/Desktop/Fall 2020/Medicaid/zipmedv2.xlsx')\n",
    "\n",
    "write.csv(states,'C:/Users/asyah/Desktop/Fall 2020/Medicaid/zipmed.csv', row.names= FALSE)\n",
    "\n"
   ]
  },
  {
   "cell_type": "code",
   "execution_count": 16,
   "metadata": {},
   "outputs": [
    {
     "data": {
      "text/html": [
       "<table>\n",
       "<thead><tr><th scope=col>Medicaid</th><th scope=col>zip</th></tr></thead>\n",
       "<tbody>\n",
       "\t<tr><td>CT MEDICAID</td><td>06484      </td></tr>\n",
       "\t<tr><td>CT MEDICAID</td><td>06040      </td></tr>\n",
       "\t<tr><td>CT MEDICAID</td><td>06759      </td></tr>\n",
       "\t<tr><td>CT MEDICAID</td><td>06457      </td></tr>\n",
       "\t<tr><td>CT MEDICAID</td><td>06443      </td></tr>\n",
       "\t<tr><td>CT MEDICAID</td><td>06320      </td></tr>\n",
       "\t<tr><td>CT MEDICAID</td><td>06232      </td></tr>\n",
       "\t<tr><td>CT MEDICAID</td><td>06234      </td></tr>\n",
       "\t<tr><td>DC MEDICAID</td><td>20319      </td></tr>\n",
       "\t<tr><td>FL MEDICAID</td><td>32601      </td></tr>\n",
       "\t<tr><td>FL MEDICAID</td><td>32087      </td></tr>\n",
       "\t<tr><td>FL MEDICAID</td><td>32402      </td></tr>\n",
       "\t<tr><td>FL MEDICAID</td><td>32026      </td></tr>\n",
       "\t<tr><td>FL MEDICAID</td><td>32904      </td></tr>\n",
       "\t<tr><td>FL MEDICAID</td><td>33028      </td></tr>\n",
       "\t<tr><td>FL MEDICAID</td><td>32421      </td></tr>\n",
       "\t<tr><td>FL MEDICAID</td><td>33981      </td></tr>\n",
       "\t<tr><td>FL MEDICAID</td><td>34442      </td></tr>\n",
       "\t<tr><td>FL MEDICAID</td><td>32006      </td></tr>\n",
       "\t<tr><td>FL MEDICAID</td><td>34116      </td></tr>\n",
       "\t<tr><td>FL MEDICAID</td><td>32061      </td></tr>\n",
       "\t<tr><td>FL MEDICAID</td><td>34266      </td></tr>\n",
       "\t<tr><td>FL MEDICAID</td><td>32648      </td></tr>\n",
       "\t<tr><td>FL MEDICAID</td><td>32205      </td></tr>\n",
       "\t<tr><td>FL MEDICAID</td><td>32505      </td></tr>\n",
       "\t<tr><td>FL MEDICAID</td><td>32137      </td></tr>\n",
       "\t<tr><td>FL MEDICAID</td><td>32322      </td></tr>\n",
       "\t<tr><td>FL MEDICAID</td><td>32343      </td></tr>\n",
       "\t<tr><td>FL MEDICAID</td><td>32619      </td></tr>\n",
       "\t<tr><td>FL MEDICAID</td><td>33471      </td></tr>\n",
       "\t<tr><td>...</td><td>...</td></tr>\n",
       "\t<tr><td>WI MEDICAID</td><td>54141      </td></tr>\n",
       "\t<tr><td>WI MEDICAID</td><td>54529      </td></tr>\n",
       "\t<tr><td>WI MEDICAID</td><td>54140      </td></tr>\n",
       "\t<tr><td>WI MEDICAID</td><td>53097      </td></tr>\n",
       "\t<tr><td>WI MEDICAID</td><td>54759      </td></tr>\n",
       "\t<tr><td>WI MEDICAID</td><td>54011      </td></tr>\n",
       "\t<tr><td>WI MEDICAID</td><td>54006      </td></tr>\n",
       "\t<tr><td>WI MEDICAID</td><td>54467      </td></tr>\n",
       "\t<tr><td>WI MEDICAID</td><td>54524      </td></tr>\n",
       "\t<tr><td>WI MEDICAID</td><td>53402      </td></tr>\n",
       "\t<tr><td>WI MEDICAID</td><td>53540      </td></tr>\n",
       "\t<tr><td>WI MEDICAID</td><td>53545      </td></tr>\n",
       "\t<tr><td>WI MEDICAID</td><td>54895      </td></tr>\n",
       "\t<tr><td>WI MEDICAID</td><td>54023      </td></tr>\n",
       "\t<tr><td>WI MEDICAID</td><td>53951      </td></tr>\n",
       "\t<tr><td>WI MEDICAID</td><td>54896      </td></tr>\n",
       "\t<tr><td>WI MEDICAID</td><td>54978      </td></tr>\n",
       "\t<tr><td>WI MEDICAID</td><td>53081      </td></tr>\n",
       "\t<tr><td>WI MEDICAID</td><td>54447      </td></tr>\n",
       "\t<tr><td>WI MEDICAID</td><td>54630      </td></tr>\n",
       "\t<tr><td>WI MEDICAID</td><td>54632      </td></tr>\n",
       "\t<tr><td>WI MEDICAID</td><td>54519      </td></tr>\n",
       "\t<tr><td>WI MEDICAID</td><td>53147      </td></tr>\n",
       "\t<tr><td>WI MEDICAID</td><td>54875      </td></tr>\n",
       "\t<tr><td>WI MEDICAID</td><td>53086      </td></tr>\n",
       "\t<tr><td>WI MEDICAID</td><td>53018      </td></tr>\n",
       "\t<tr><td>WI MEDICAID</td><td>54962      </td></tr>\n",
       "\t<tr><td>WI MEDICAID</td><td>54967      </td></tr>\n",
       "\t<tr><td>WI MEDICAID</td><td>54902      </td></tr>\n",
       "\t<tr><td>WI MEDICAID</td><td>54410      </td></tr>\n",
       "</tbody>\n",
       "</table>\n"
      ],
      "text/latex": [
       "\\begin{tabular}{r|ll}\n",
       " Medicaid & zip\\\\\n",
       "\\hline\n",
       "\t CT MEDICAID & 06484      \\\\\n",
       "\t CT MEDICAID & 06040      \\\\\n",
       "\t CT MEDICAID & 06759      \\\\\n",
       "\t CT MEDICAID & 06457      \\\\\n",
       "\t CT MEDICAID & 06443      \\\\\n",
       "\t CT MEDICAID & 06320      \\\\\n",
       "\t CT MEDICAID & 06232      \\\\\n",
       "\t CT MEDICAID & 06234      \\\\\n",
       "\t DC MEDICAID & 20319      \\\\\n",
       "\t FL MEDICAID & 32601      \\\\\n",
       "\t FL MEDICAID & 32087      \\\\\n",
       "\t FL MEDICAID & 32402      \\\\\n",
       "\t FL MEDICAID & 32026      \\\\\n",
       "\t FL MEDICAID & 32904      \\\\\n",
       "\t FL MEDICAID & 33028      \\\\\n",
       "\t FL MEDICAID & 32421      \\\\\n",
       "\t FL MEDICAID & 33981      \\\\\n",
       "\t FL MEDICAID & 34442      \\\\\n",
       "\t FL MEDICAID & 32006      \\\\\n",
       "\t FL MEDICAID & 34116      \\\\\n",
       "\t FL MEDICAID & 32061      \\\\\n",
       "\t FL MEDICAID & 34266      \\\\\n",
       "\t FL MEDICAID & 32648      \\\\\n",
       "\t FL MEDICAID & 32205      \\\\\n",
       "\t FL MEDICAID & 32505      \\\\\n",
       "\t FL MEDICAID & 32137      \\\\\n",
       "\t FL MEDICAID & 32322      \\\\\n",
       "\t FL MEDICAID & 32343      \\\\\n",
       "\t FL MEDICAID & 32619      \\\\\n",
       "\t FL MEDICAID & 33471      \\\\\n",
       "\t ... & ...\\\\\n",
       "\t WI MEDICAID & 54141      \\\\\n",
       "\t WI MEDICAID & 54529      \\\\\n",
       "\t WI MEDICAID & 54140      \\\\\n",
       "\t WI MEDICAID & 53097      \\\\\n",
       "\t WI MEDICAID & 54759      \\\\\n",
       "\t WI MEDICAID & 54011      \\\\\n",
       "\t WI MEDICAID & 54006      \\\\\n",
       "\t WI MEDICAID & 54467      \\\\\n",
       "\t WI MEDICAID & 54524      \\\\\n",
       "\t WI MEDICAID & 53402      \\\\\n",
       "\t WI MEDICAID & 53540      \\\\\n",
       "\t WI MEDICAID & 53545      \\\\\n",
       "\t WI MEDICAID & 54895      \\\\\n",
       "\t WI MEDICAID & 54023      \\\\\n",
       "\t WI MEDICAID & 53951      \\\\\n",
       "\t WI MEDICAID & 54896      \\\\\n",
       "\t WI MEDICAID & 54978      \\\\\n",
       "\t WI MEDICAID & 53081      \\\\\n",
       "\t WI MEDICAID & 54447      \\\\\n",
       "\t WI MEDICAID & 54630      \\\\\n",
       "\t WI MEDICAID & 54632      \\\\\n",
       "\t WI MEDICAID & 54519      \\\\\n",
       "\t WI MEDICAID & 53147      \\\\\n",
       "\t WI MEDICAID & 54875      \\\\\n",
       "\t WI MEDICAID & 53086      \\\\\n",
       "\t WI MEDICAID & 53018      \\\\\n",
       "\t WI MEDICAID & 54962      \\\\\n",
       "\t WI MEDICAID & 54967      \\\\\n",
       "\t WI MEDICAID & 54902      \\\\\n",
       "\t WI MEDICAID & 54410      \\\\\n",
       "\\end{tabular}\n"
      ],
      "text/markdown": [
       "\n",
       "| Medicaid | zip |\n",
       "|---|---|\n",
       "| CT MEDICAID | 06484       |\n",
       "| CT MEDICAID | 06040       |\n",
       "| CT MEDICAID | 06759       |\n",
       "| CT MEDICAID | 06457       |\n",
       "| CT MEDICAID | 06443       |\n",
       "| CT MEDICAID | 06320       |\n",
       "| CT MEDICAID | 06232       |\n",
       "| CT MEDICAID | 06234       |\n",
       "| DC MEDICAID | 20319       |\n",
       "| FL MEDICAID | 32601       |\n",
       "| FL MEDICAID | 32087       |\n",
       "| FL MEDICAID | 32402       |\n",
       "| FL MEDICAID | 32026       |\n",
       "| FL MEDICAID | 32904       |\n",
       "| FL MEDICAID | 33028       |\n",
       "| FL MEDICAID | 32421       |\n",
       "| FL MEDICAID | 33981       |\n",
       "| FL MEDICAID | 34442       |\n",
       "| FL MEDICAID | 32006       |\n",
       "| FL MEDICAID | 34116       |\n",
       "| FL MEDICAID | 32061       |\n",
       "| FL MEDICAID | 34266       |\n",
       "| FL MEDICAID | 32648       |\n",
       "| FL MEDICAID | 32205       |\n",
       "| FL MEDICAID | 32505       |\n",
       "| FL MEDICAID | 32137       |\n",
       "| FL MEDICAID | 32322       |\n",
       "| FL MEDICAID | 32343       |\n",
       "| FL MEDICAID | 32619       |\n",
       "| FL MEDICAID | 33471       |\n",
       "| ... | ... |\n",
       "| WI MEDICAID | 54141       |\n",
       "| WI MEDICAID | 54529       |\n",
       "| WI MEDICAID | 54140       |\n",
       "| WI MEDICAID | 53097       |\n",
       "| WI MEDICAID | 54759       |\n",
       "| WI MEDICAID | 54011       |\n",
       "| WI MEDICAID | 54006       |\n",
       "| WI MEDICAID | 54467       |\n",
       "| WI MEDICAID | 54524       |\n",
       "| WI MEDICAID | 53402       |\n",
       "| WI MEDICAID | 53540       |\n",
       "| WI MEDICAID | 53545       |\n",
       "| WI MEDICAID | 54895       |\n",
       "| WI MEDICAID | 54023       |\n",
       "| WI MEDICAID | 53951       |\n",
       "| WI MEDICAID | 54896       |\n",
       "| WI MEDICAID | 54978       |\n",
       "| WI MEDICAID | 53081       |\n",
       "| WI MEDICAID | 54447       |\n",
       "| WI MEDICAID | 54630       |\n",
       "| WI MEDICAID | 54632       |\n",
       "| WI MEDICAID | 54519       |\n",
       "| WI MEDICAID | 53147       |\n",
       "| WI MEDICAID | 54875       |\n",
       "| WI MEDICAID | 53086       |\n",
       "| WI MEDICAID | 53018       |\n",
       "| WI MEDICAID | 54962       |\n",
       "| WI MEDICAID | 54967       |\n",
       "| WI MEDICAID | 54902       |\n",
       "| WI MEDICAID | 54410       |\n",
       "\n"
      ],
      "text/plain": [
       "     Medicaid    zip  \n",
       "1    CT MEDICAID 06484\n",
       "2    CT MEDICAID 06040\n",
       "3    CT MEDICAID 06759\n",
       "4    CT MEDICAID 06457\n",
       "5    CT MEDICAID 06443\n",
       "6    CT MEDICAID 06320\n",
       "7    CT MEDICAID 06232\n",
       "8    CT MEDICAID 06234\n",
       "9    DC MEDICAID 20319\n",
       "10   FL MEDICAID 32601\n",
       "11   FL MEDICAID 32087\n",
       "12   FL MEDICAID 32402\n",
       "13   FL MEDICAID 32026\n",
       "14   FL MEDICAID 32904\n",
       "15   FL MEDICAID 33028\n",
       "16   FL MEDICAID 32421\n",
       "17   FL MEDICAID 33981\n",
       "18   FL MEDICAID 34442\n",
       "19   FL MEDICAID 32006\n",
       "20   FL MEDICAID 34116\n",
       "21   FL MEDICAID 32061\n",
       "22   FL MEDICAID 34266\n",
       "23   FL MEDICAID 32648\n",
       "24   FL MEDICAID 32205\n",
       "25   FL MEDICAID 32505\n",
       "26   FL MEDICAID 32137\n",
       "27   FL MEDICAID 32322\n",
       "28   FL MEDICAID 32343\n",
       "29   FL MEDICAID 32619\n",
       "30   FL MEDICAID 33471\n",
       "...  ...         ...  \n",
       "1727 WI MEDICAID 54141\n",
       "1728 WI MEDICAID 54529\n",
       "1729 WI MEDICAID 54140\n",
       "1730 WI MEDICAID 53097\n",
       "1731 WI MEDICAID 54759\n",
       "1732 WI MEDICAID 54011\n",
       "1733 WI MEDICAID 54006\n",
       "1734 WI MEDICAID 54467\n",
       "1735 WI MEDICAID 54524\n",
       "1736 WI MEDICAID 53402\n",
       "1737 WI MEDICAID 53540\n",
       "1738 WI MEDICAID 53545\n",
       "1739 WI MEDICAID 54895\n",
       "1740 WI MEDICAID 54023\n",
       "1741 WI MEDICAID 53951\n",
       "1742 WI MEDICAID 54896\n",
       "1743 WI MEDICAID 54978\n",
       "1744 WI MEDICAID 53081\n",
       "1745 WI MEDICAID 54447\n",
       "1746 WI MEDICAID 54630\n",
       "1747 WI MEDICAID 54632\n",
       "1748 WI MEDICAID 54519\n",
       "1749 WI MEDICAID 53147\n",
       "1750 WI MEDICAID 54875\n",
       "1751 WI MEDICAID 53086\n",
       "1752 WI MEDICAID 53018\n",
       "1753 WI MEDICAID 54962\n",
       "1754 WI MEDICAID 54967\n",
       "1755 WI MEDICAID 54902\n",
       "1756 WI MEDICAID 54410"
      ]
     },
     "metadata": {},
     "output_type": "display_data"
    }
   ],
   "source": [
    "zipmed\n",
    "\n",
    "write_xlsx(zipmed,'C:/Users/asyah/Desktop/Fall 2020/Medicaid/zipmedv4.xlsx')"
   ]
  }
 ],
 "metadata": {
  "kernelspec": {
   "display_name": "R",
   "language": "R",
   "name": "ir"
  },
  "language_info": {
   "codemirror_mode": "r",
   "file_extension": ".r",
   "mimetype": "text/x-r-source",
   "name": "R",
   "pygments_lexer": "r",
   "version": "3.6.1"
  },
  "varInspector": {
   "cols": {
    "lenName": 16,
    "lenType": 16,
    "lenVar": 40
   },
   "kernels_config": {
    "python": {
     "delete_cmd_postfix": "",
     "delete_cmd_prefix": "del ",
     "library": "var_list.py",
     "varRefreshCmd": "print(var_dic_list())"
    },
    "r": {
     "delete_cmd_postfix": ") ",
     "delete_cmd_prefix": "rm(",
     "library": "var_list.r",
     "varRefreshCmd": "cat(var_dic_list()) "
    }
   },
   "types_to_exclude": [
    "module",
    "function",
    "builtin_function_or_method",
    "instance",
    "_Feature"
   ],
   "window_display": false
  }
 },
 "nbformat": 4,
 "nbformat_minor": 4
}
