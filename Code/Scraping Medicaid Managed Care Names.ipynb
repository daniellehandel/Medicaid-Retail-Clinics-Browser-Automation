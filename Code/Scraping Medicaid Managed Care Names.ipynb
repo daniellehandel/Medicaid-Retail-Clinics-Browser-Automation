{
 "cells": [
  {
   "cell_type": "markdown",
   "metadata": {},
   "source": [
    "### This code reads a [pdf](https://www.medicaid.gov/medicaid/managed-care/downloads/2018-medicaid-managed-care-enrollment-report.pdf) containing a 150-page-long table of all of the names and enrollment statistics of Medicaid managed care plans, then cleans this data for practical use. \n",
    "\n",
    "<br>\n",
    "<br>"
   ]
  },
  {
   "cell_type": "code",
   "execution_count": 2,
   "metadata": {},
   "outputs": [],
   "source": [
    "#used for scraping tables from pdfs\n",
    "import camelot as cam\n",
    "\n",
    "import pandas as pd\n"
   ]
  },
  {
   "cell_type": "code",
   "execution_count": 3,
   "metadata": {},
   "outputs": [],
   "source": [
    "#read in table from pdf\n",
    "\n",
    "tables = cam.read_pdf(r\"C:/Users/asyah/Desktop/Fall 2020/Medicaid/2018 Medicaid Managed Care Enrollment Report.pdf\",\n",
    "                      flavor= \"lattice\", pages= \"35-189\")\n"
   ]
  },
  {
   "cell_type": "code",
   "execution_count": 4,
   "metadata": {},
   "outputs": [],
   "source": [
    "#create a list of the tables from each page as DataFrames\n",
    "\n",
    "dftables = []\n",
    "\n",
    "for x in range(len(tables)):\n",
    "    #pull DataFrame form of each table\n",
    "    df = tables[x].df\n",
    "    \n",
    "    #set the first row of each table to serve as the header\n",
    "    df = df.rename(columns=df.iloc[0]).drop(df.index[0])\n",
    "    \n",
    "    #add each table to a list\n",
    "    dftables.append(df)"
   ]
  },
  {
   "cell_type": "code",
   "execution_count": 5,
   "metadata": {},
   "outputs": [],
   "source": [
    "#merge all DataFrames\n",
    "\n",
    "managecare = pd.DataFrame(pd.concat(dftables))\n",
    "\n",
    "#rename columns \n",
    "\n",
    "managecare.columns = (['state','program_name','plan','provider','region','medicaid_enr','dual_enr','total_enr'])\n"
   ]
  },
  {
   "cell_type": "code",
   "execution_count": 6,
   "metadata": {},
   "outputs": [],
   "source": [
    "#remove any instance of '\\n' in strings that arose from weird Camelot scanning \n",
    "\n",
    "managecare = managecare.replace('\\n','', regex= True)"
   ]
  },
  {
   "cell_type": "code",
   "execution_count": 7,
   "metadata": {},
   "outputs": [],
   "source": [
    "#remove the superscript numbers that are tacked onto state names\n",
    "\n",
    "managecare['state'] = managecare['state'].str.translate(str.maketrans('','','1234567890'))"
   ]
  },
  {
   "cell_type": "code",
   "execution_count": 15,
   "metadata": {},
   "outputs": [
    {
     "data": {
      "text/plain": [
       "<bound method NDFrame.head of         state                                       program_name  \\\n",
       "1     Alabama  Patient 1st (Primary Care Case Management (PCCM))   \n",
       "2     Alabama  Health Homes (Primary Care Case Management (PC...   \n",
       "3     Alabama  Maternity Care Program (Other Prepaid Health P...   \n",
       "4     Alabama  PACE (Program of All-inclusive Care for the El...   \n",
       "5     Arizona  Arizona Health Care Cost Containment System (C...   \n",
       "..        ...                                                ...   \n",
       "2   Wisconsin  WrapAround Milwaukee (Behavioral Health Organi...   \n",
       "3   Wisconsin  Care4Kids (Other Prepaid Health Plan (PHP) (li...   \n",
       "4   Wisconsin  Program of All-inclusive Care for the Elderly ...   \n",
       "5     Wyoming  Care Management Entity for Emotionally Disturb...   \n",
       "6     Wyoming  Wyoming PACE at Cheyenne Medical Center (Progr...   \n",
       "\n",
       "                                        plan  \\\n",
       "1                                Patient 1st   \n",
       "2                               Health Homes   \n",
       "3                        Maternity Care Plan   \n",
       "4                      Mercy Life of Alabama   \n",
       "5   United Healthcare Plan  UnitedHealthcare   \n",
       "..                                       ...   \n",
       "2                       WrapAround Milwaukee   \n",
       "3           Children's Community Health Plan   \n",
       "4                       Community Care, Inc.   \n",
       "5                              CME Statewide   \n",
       "6      Cheyenne Regional Medical Center PACE   \n",
       "\n",
       "                            provider  \\\n",
       "1            Alabama Medicaid Agency   \n",
       "2            Alabama Medicaid Agency   \n",
       "3            Alabama Medicaid Agency   \n",
       "4                               PACE   \n",
       "5                                      \n",
       "..                               ...   \n",
       "2               WrapAround Milwaukee   \n",
       "3   Children's Community Health Plan   \n",
       "4    Community Care Health Plan (WI)   \n",
       "5                    Magellan Health   \n",
       "6   Cheyenne Regional Medical Center   \n",
       "\n",
       "                                               region medicaid_enr dual_enr  \\\n",
       "1                                           Statewide      611,251        0   \n",
       "2                                           Statewide      230,966        0   \n",
       "3   Barbour, Bibb, Blount, Calhoun, Chambers, Cher...       22,844        0   \n",
       "4                         Mobile and Baldwin Counties           25      149   \n",
       "5   Apache, Cochise, Coconino, Graham, Greenlee, L...      469,579   46,866   \n",
       "..                                                ...          ...      ...   \n",
       "2                                   County: Milwaukee        1,071        3   \n",
       "3   Counties: Milwaukee, Kenosha, Racine, Washingt...        3,141        0   \n",
       "4                    Counties: Milwaukee and Waukesha           30      543   \n",
       "5                                           Statewide          234        0   \n",
       "6                                      Laramie County            4      132   \n",
       "\n",
       "   total_enr  \n",
       "1    611,251  \n",
       "2    230,966  \n",
       "3     22,844  \n",
       "4        174  \n",
       "5    516,445  \n",
       "..       ...  \n",
       "2      1,074  \n",
       "3      3,141  \n",
       "4        573  \n",
       "5        234  \n",
       "6        136  \n",
       "\n",
       "[848 rows x 8 columns]>"
      ]
     },
     "execution_count": 15,
     "metadata": {},
     "output_type": "execute_result"
    }
   ],
   "source": [
    "managecare.head"
   ]
  }
 ],
 "metadata": {
  "kernelspec": {
   "display_name": "Python 3",
   "language": "python",
   "name": "python3"
  },
  "language_info": {
   "codemirror_mode": {
    "name": "ipython",
    "version": 3
   },
   "file_extension": ".py",
   "mimetype": "text/x-python",
   "name": "python",
   "nbconvert_exporter": "python",
   "pygments_lexer": "ipython3",
   "version": "3.7.1"
  },
  "varInspector": {
   "cols": {
    "lenName": 16,
    "lenType": 16,
    "lenVar": 40
   },
   "kernels_config": {
    "python": {
     "delete_cmd_postfix": "",
     "delete_cmd_prefix": "del ",
     "library": "var_list.py",
     "varRefreshCmd": "print(var_dic_list())"
    },
    "r": {
     "delete_cmd_postfix": ") ",
     "delete_cmd_prefix": "rm(",
     "library": "var_list.r",
     "varRefreshCmd": "cat(var_dic_list()) "
    }
   },
   "types_to_exclude": [
    "module",
    "function",
    "builtin_function_or_method",
    "instance",
    "_Feature"
   ],
   "window_display": false
  }
 },
 "nbformat": 4,
 "nbformat_minor": 4
}
